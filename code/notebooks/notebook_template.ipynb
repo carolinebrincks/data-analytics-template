{
 "cells": [
  {
   "cell_type": "markdown",
   "id": "d74485cb",
   "metadata": {},
   "source": [
    "# Project Name"
   ]
  },
  {
   "cell_type": "markdown",
   "id": "dcebbeff",
   "metadata": {},
   "source": [
    "## Author: Caroline Brincks\n",
    "## Last Modified: 11-17-2024\n",
    "\n",
    "### Description: Short paragraph explaining the project."
   ]
  },
  {
   "cell_type": "markdown",
   "id": "1f778b3d",
   "metadata": {},
   "source": [
    "#### Import libraries:"
   ]
  },
  {
   "cell_type": "code",
   "execution_count": 1,
   "id": "35985d42",
   "metadata": {},
   "outputs": [],
   "source": [
    "import pandas as pd"
   ]
  },
  {
   "cell_type": "code",
   "execution_count": 2,
   "id": "62aad880",
   "metadata": {},
   "outputs": [],
   "source": [
    "# Load data:\n",
    "# code to load file"
   ]
  }
 ],
 "metadata": {
  "kernelspec": {
   "display_name": "Python 3 (ipykernel)",
   "language": "python",
   "name": "python3"
  },
  "language_info": {
   "codemirror_mode": {
    "name": "ipython",
    "version": 3
   },
   "file_extension": ".py",
   "mimetype": "text/x-python",
   "name": "python",
   "nbconvert_exporter": "python",
   "pygments_lexer": "ipython3",
   "version": "3.11.5"
  }
 },
 "nbformat": 4,
 "nbformat_minor": 5
}
